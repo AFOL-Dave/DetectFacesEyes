{
 "cells": [
  {
   "cell_type": "markdown",
   "id": "fd48cfa7",
   "metadata": {},
   "source": [
    "# Description\n",
    "The twelfth practical project in the [Super Data Science](https://www.superdatascience.com) [Python 3 Masterclass](https://www.superdatascience.com/courses/python-3-programming-beginner-to-pro-masterclass) is a series of exercises to detect faces and eyes in still images.\n",
    "\n",
    "1) Detect a Single Face\n",
    "\n",
    "2) Detect Multiple Faces\n",
    "\n",
    "3) Detect Faces and Eyes"
   ]
  },
  {
   "cell_type": "code",
   "execution_count": 14,
   "id": "f6dd3098",
   "metadata": {},
   "outputs": [],
   "source": [
    "import numpy as np\n",
    "import cv2"
   ]
  },
  {
   "cell_type": "markdown",
   "id": "ae84593d",
   "metadata": {},
   "source": [
    "## Detect a Single Face"
   ]
  },
  {
   "cell_type": "code",
   "execution_count": 15,
   "id": "d0d26929",
   "metadata": {},
   "outputs": [],
   "source": [
    "image_c = cv2.imread('Trudeau.jpg')"
   ]
  },
  {
   "cell_type": "code",
   "execution_count": 16,
   "id": "d0b745a3",
   "metadata": {},
   "outputs": [],
   "source": [
    "cv2.imshow('Trudeau in Color', image_c)\n",
    "cv2.waitKey()\n",
    "cv2.destroyAllWindows()"
   ]
  },
  {
   "cell_type": "code",
   "execution_count": 17,
   "id": "6bc120e1",
   "metadata": {},
   "outputs": [],
   "source": [
    "image_g = cv2.cvtColor(image_c, cv2.COLOR_BGR2GRAY)\n",
    "cv2.imshow('Trudeau in Grey Scale', image_g)\n",
    "cv2.waitKey()\n",
    "cv2.destroyAllWindows()"
   ]
  },
  {
   "cell_type": "code",
   "execution_count": 18,
   "id": "9713a695",
   "metadata": {},
   "outputs": [],
   "source": [
    "face_detection_classifier = cv2.CascadeClassifier('Haarcascades/haarcascade_frontalface_default.xml')"
   ]
  },
  {
   "cell_type": "code",
   "execution_count": 19,
   "id": "ba099177",
   "metadata": {},
   "outputs": [],
   "source": [
    "face_coordinates = face_detection_classifier.detectMultiScale(image_c, 1.1, 5)"
   ]
  },
  {
   "cell_type": "code",
   "execution_count": 26,
   "id": "525ce8ad",
   "metadata": {},
   "outputs": [
    {
     "data": {
      "text/plain": [
       "array([208], dtype=int32)"
      ]
     },
     "execution_count": 26,
     "metadata": {},
     "output_type": "execute_result"
    }
   ],
   "source": [
    "x = face_coordinates[:,0]\n",
    "y = face_coordinates[:,1]\n",
    "w = face_coordinates[:,2]\n",
    "h = face_coordinates[:,3]"
   ]
  },
  {
   "cell_type": "code",
   "execution_count": 27,
   "id": "fd3e6ee9",
   "metadata": {},
   "outputs": [],
   "source": [
    "# There's a bug in this version of cv2, where the coordinates in the points need to be of type int.\n",
    "# They cannot be a Numpy int32 or int64, which used to be supported.\n",
    "cv2.rectangle(image_c, (int(x), int(y)), (int(x+w), int(y+h)), (0, 255, 255), 3)\n",
    "cv2.imshow('Single Face Detection', image_c)\n",
    "cv2.waitKey()\n",
    "cv2.destroyAllWindows()"
   ]
  },
  {
   "cell_type": "markdown",
   "id": "f7ce7e83",
   "metadata": {},
   "source": [
    "## Detect Multiple Faces"
   ]
  },
  {
   "cell_type": "code",
   "execution_count": null,
   "id": "d390be13",
   "metadata": {},
   "outputs": [],
   "source": []
  },
  {
   "cell_type": "markdown",
   "id": "2003f5ec",
   "metadata": {},
   "source": [
    "## Detect Faces and Eyes"
   ]
  },
  {
   "cell_type": "code",
   "execution_count": null,
   "id": "394a6271",
   "metadata": {},
   "outputs": [],
   "source": []
  }
 ],
 "metadata": {
  "kernelspec": {
   "display_name": "Python 3",
   "language": "python",
   "name": "python3"
  },
  "language_info": {
   "codemirror_mode": {
    "name": "ipython",
    "version": 3
   },
   "file_extension": ".py",
   "mimetype": "text/x-python",
   "name": "python",
   "nbconvert_exporter": "python",
   "pygments_lexer": "ipython3",
   "version": "3.8.8"
  }
 },
 "nbformat": 4,
 "nbformat_minor": 5
}
