{
 "cells": [
  {
   "cell_type": "markdown",
   "id": "fd48cfa7",
   "metadata": {},
   "source": [
    "# Description\n",
    "The twelfth practical project in the [Super Data Science](https://www.superdatascience.com) [Python 3 Masterclass](https://www.superdatascience.com/courses/python-3-programming-beginner-to-pro-masterclass) is a series of exercises to detect faces and eyes in still images.\n",
    "\n",
    "1) Detect a Single Face\n",
    "\n",
    "2) Detect Multiple Faces\n",
    "\n",
    "3) Detect Faces and Eyes"
   ]
  },
  {
   "cell_type": "code",
   "execution_count": 1,
   "id": "f6dd3098",
   "metadata": {},
   "outputs": [],
   "source": [
    "import numpy as np\n",
    "import cv2"
   ]
  },
  {
   "cell_type": "markdown",
   "id": "ae84593d",
   "metadata": {},
   "source": [
    "## Detect a Single Face"
   ]
  },
  {
   "cell_type": "markdown",
   "id": "b442c839",
   "metadata": {},
   "source": [
    "Load the photo of Justin Turdeau and display it in a separate window."
   ]
  },
  {
   "cell_type": "code",
   "execution_count": 16,
   "id": "d0b745a3",
   "metadata": {},
   "outputs": [],
   "source": [
    "image_c = cv2.imread('Trudeau.jpg')\n",
    "cv2.imshow('Trudeau in Color', image_c)\n",
    "cv2.waitKey()\n",
    "cv2.destroyAllWindows()"
   ]
  },
  {
   "cell_type": "markdown",
   "id": "b9b4f8f4",
   "metadata": {},
   "source": [
    "Now, load the data for the classifier and apply it to the loaded image. The two parameters after the image are the scale factor and minimum neighbors.\n",
    "\n",
    "The scale factor specifies how much reduction takes place in image size during the pyramiding process. For example, a value of 1.1 means the image is reduced by 10% each time it's scaled.\n",
    "\n",
    "The minimum neighbors specifies how many neighbors each canddate rectangle much have for it to be retained."
   ]
  },
  {
   "cell_type": "code",
   "execution_count": 18,
   "id": "9713a695",
   "metadata": {},
   "outputs": [],
   "source": [
    "face_detection_classifier = cv2.CascadeClassifier('Haarcascades/haarcascade_frontalface_default.xml')\n",
    "face_coordinates = face_detection_classifier.detectMultiScale(image_c, 1.1, 5)"
   ]
  },
  {
   "cell_type": "markdown",
   "id": "e8330d07",
   "metadata": {},
   "source": [
    "The classifier returns an array of arrays. Each inner array contains four integers. The first two are the x and y coordinates of the upper left corner of the detected face. The next two are the width and height of the image."
   ]
  },
  {
   "cell_type": "code",
   "execution_count": 26,
   "id": "525ce8ad",
   "metadata": {},
   "outputs": [
    {
     "data": {
      "text/plain": [
       "array([208], dtype=int32)"
      ]
     },
     "execution_count": 26,
     "metadata": {},
     "output_type": "execute_result"
    }
   ],
   "source": [
    "face_coordinates\n",
    "\n",
    "x = face_coordinates[:,0]\n",
    "y = face_coordinates[:,1]\n",
    "w = face_coordinates[:,2]\n",
    "h = face_coordinates[:,3]"
   ]
  },
  {
   "cell_type": "markdown",
   "id": "e5d612a7",
   "metadata": {},
   "source": [
    "Using the data returned by the classifier, we can draw a rectangle around the face."
   ]
  },
  {
   "cell_type": "code",
   "execution_count": 27,
   "id": "fd3e6ee9",
   "metadata": {},
   "outputs": [],
   "source": [
    "# There's a bug in this version of cv2, where the coordinates in the points need to be of type int.\n",
    "# They cannot be a Numpy int32 or int64, which used to be supported.\n",
    "cv2.rectangle(image_c, (int(x), int(y)), (int(x+w), int(y+h)), (0, 255, 255), 3)\n",
    "cv2.imshow('Single Face Detection', image_c)\n",
    "cv2.waitKey()\n",
    "cv2.destroyAllWindows()"
   ]
  },
  {
   "cell_type": "markdown",
   "id": "f7ce7e83",
   "metadata": {},
   "source": [
    "## Detect Multiple Faces"
   ]
  },
  {
   "cell_type": "markdown",
   "id": "da549de3",
   "metadata": {},
   "source": [
    "Load the photo of the scientists and display it in a separate window."
   ]
  },
  {
   "cell_type": "code",
   "execution_count": 21,
   "id": "807a20ba",
   "metadata": {},
   "outputs": [],
   "source": [
    "image_c = cv2.imread('Scientists.jpg')\n",
    "cv2.imshow('Scientists', image_c)\n",
    "cv2.waitKey()\n",
    "cv2.destroyAllWindows()"
   ]
  },
  {
   "cell_type": "markdown",
   "id": "ccc880de",
   "metadata": {},
   "source": [
    "Load the classifier and apply it to the image.\n",
    "\n",
    "The accuracy of the detection can be adjusted by changing the scale and minimum neighbors parameters."
   ]
  },
  {
   "cell_type": "code",
   "execution_count": 23,
   "id": "2f5beede",
   "metadata": {},
   "outputs": [
    {
     "data": {
      "text/plain": [
       "array([[ 42,   5,  37,  37],\n",
       "       [ 15, 131,  46,  46],\n",
       "       [626, 149,  52,  52],\n",
       "       [196, 153,  59,  59],\n",
       "       [340, 157,  60,  60],\n",
       "       [ 66, 161,  57,  57],\n",
       "       [717, 144,  56,  56],\n",
       "       [496, 149,  55,  55],\n",
       "       [347, 203,  50,  50],\n",
       "       [540, 104,  46,  46],\n",
       "       [420, 107,  48,  48],\n",
       "       [272, 112,  55,  55],\n",
       "       [132,  31,  43,  43],\n",
       "       [658, 114,  47,  47],\n",
       "       [527,  35,  38,  38],\n",
       "       [801,  35,  38,  38],\n",
       "       [ 12, 106,  54,  54],\n",
       "       [134, 115,  53,  53],\n",
       "       [787, 115,  56,  56],\n",
       "       [420,  56,  45,  45],\n",
       "       [309,  40,  46,  46],\n",
       "       [199,  62,  46,  46]], dtype=int32)"
      ]
     },
     "execution_count": 23,
     "metadata": {},
     "output_type": "execute_result"
    }
   ],
   "source": [
    "face_detection_classifier = cv2.CascadeClassifier('Haarcascades/haarcascade_frontalface_default.xml')\n",
    "face_coordinates = face_detection_classifier.detectMultiScale(image_c, 1.1, 5)\n",
    "face_coordinates"
   ]
  },
  {
   "cell_type": "markdown",
   "id": "3960abf1",
   "metadata": {},
   "source": [
    "Using the data returned by the classifier, we can draw a rectangle around each face."
   ]
  },
  {
   "cell_type": "code",
   "execution_count": 6,
   "id": "9074cf26",
   "metadata": {},
   "outputs": [],
   "source": [
    "for (x, y, w, h) in face_coordinates:\n",
    "    cv2.rectangle(image_c, (int(x), int(y)), (int(x+w), int(y+h)), (0, 255, 255), 2)\n",
    "    cv2.imshow('Multi Face Detection', image_c)\n",
    "    cv2.waitKey()\n",
    "    \n",
    "cv2.destroyAllWindows()"
   ]
  },
  {
   "cell_type": "markdown",
   "id": "2003f5ec",
   "metadata": {},
   "source": [
    "## Detect Faces and Eyes"
   ]
  },
  {
   "cell_type": "markdown",
   "id": "0aace933",
   "metadata": {},
   "source": [
    "Load the photo of Justin Trudeau."
   ]
  },
  {
   "cell_type": "code",
   "execution_count": 16,
   "id": "394a6271",
   "metadata": {},
   "outputs": [],
   "source": [
    "image_c = cv2.imread('Trudeau.jpg')"
   ]
  },
  {
   "cell_type": "markdown",
   "id": "cc546ea4",
   "metadata": {},
   "source": [
    "This time two classifiers will be applied. One detects faces. One detects eyes."
   ]
  },
  {
   "cell_type": "code",
   "execution_count": 17,
   "id": "fb9f04f3",
   "metadata": {},
   "outputs": [],
   "source": [
    "face_detection_classifier = cv2.CascadeClassifier('Haarcascades/haarcascade_frontalface_default.xml')\n",
    "eye_detection_classifier = cv2.CascadeClassifier('Haarcascades/haarcascade_eye.xml')"
   ]
  },
  {
   "cell_type": "markdown",
   "id": "028d854d",
   "metadata": {},
   "source": [
    "Apply the classifier for face detection, first."
   ]
  },
  {
   "cell_type": "code",
   "execution_count": 18,
   "id": "ff30c4fe",
   "metadata": {},
   "outputs": [],
   "source": [
    "face_coordinates = face_detection_classifier.detectMultiScale(image_c, 1.1, 5)"
   ]
  },
  {
   "cell_type": "markdown",
   "id": "3f240ea2",
   "metadata": {},
   "source": [
    "Now, using the data returned from the face classifier, grab the region containing the face and apply the eye classifier.\n",
    "\n",
    "Display the results."
   ]
  },
  {
   "cell_type": "code",
   "execution_count": 19,
   "id": "79d78a4d",
   "metadata": {},
   "outputs": [],
   "source": [
    "for (x, y, w, h) in face_coordinates:\n",
    "    cv2.rectangle(image_c, (int(x), int(y)), (int(x+w), int(y+h)), (0, 255, 255), 2)\n",
    "    cv2.imshow('Trudeau Face and Eye Detection in Color', image_c)\n",
    "    cv2.waitKey()\n",
    "    \n",
    "    #Select the Face Region\n",
    "    face_region = image_c[y:y+h, x:x+w]\n",
    "    \n",
    "    eyes = eye_detection_classifier.detectMultiScale(face_region)\n",
    "    \n",
    "    for (eye_x, eye_y, eye_w, eye_h) in eyes:\n",
    "        cv2.rectangle(face_region, (int(eye_x), int(eye_y)), (int(eye_x+eye_w), int(eye_y+eye_h)), (0, 0, 255), 2)\n",
    "        cv2.imshow('Trudeau Face and Eye Detection in Color', image_c)\n",
    "        cv2.waitKey()\n",
    "    \n",
    "cv2.destroyAllWindows()"
   ]
  }
 ],
 "metadata": {
  "kernelspec": {
   "display_name": "Python 3",
   "language": "python",
   "name": "python3"
  },
  "language_info": {
   "codemirror_mode": {
    "name": "ipython",
    "version": 3
   },
   "file_extension": ".py",
   "mimetype": "text/x-python",
   "name": "python",
   "nbconvert_exporter": "python",
   "pygments_lexer": "ipython3",
   "version": "3.8.8"
  }
 },
 "nbformat": 4,
 "nbformat_minor": 5
}
